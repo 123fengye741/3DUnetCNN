{
 "cells": [
  {
   "cell_type": "code",
   "execution_count": 7,
   "metadata": {
    "collapsed": false
   },
   "outputs": [
    {
     "data": {
      "text/plain": [
       "['models/model_201728_17:10:7.h5',\n",
       " 'models/model_201728_17:14:3.h5',\n",
       " 'models/model_201728_17:17:58.h5',\n",
       " 'models/model_201728_17:21:54.h5',\n",
       " 'models/model_201728_17:25:51.h5',\n",
       " 'models/model_201728_17:29:48.h5',\n",
       " 'models/model_201728_17:33:49.h5',\n",
       " 'models/model_201728_17:37:43.h5',\n",
       " 'models/model_201728_17:41:43.h5',\n",
       " 'models/model_201728_17:45:42.h5',\n",
       " 'models/model_201728_17:49:39.h5',\n",
       " 'models/model_201728_17:53:35.h5',\n",
       " 'models/model_201728_17:57:31.h5',\n",
       " 'models/model_201728_17:6:13.h5',\n",
       " 'models/model_201728_18:13:10.h5',\n",
       " 'models/model_201728_18:17:5.h5',\n",
       " 'models/model_201728_18:1:26.h5',\n",
       " 'models/model_201728_18:21:2.h5',\n",
       " 'models/model_201728_18:24:56.h5',\n",
       " 'models/model_201728_18:28:54.h5',\n",
       " 'models/model_201728_18:32:49.h5',\n",
       " 'models/model_201728_18:36:42.h5',\n",
       " 'models/model_201728_18:40:42.h5',\n",
       " 'models/model_201728_18:44:36.h5',\n",
       " 'models/model_201728_18:48:33.h5',\n",
       " 'models/model_201728_18:52:26.h5',\n",
       " 'models/model_201728_18:56:24.h5',\n",
       " 'models/model_201728_18:5:21.h5',\n",
       " 'models/model_201728_18:9:17.h5',\n",
       " 'models/model_201728_19:0:20.h5',\n",
       " 'models/model_201728_19:12:8.h5',\n",
       " 'models/model_201728_19:16:1.h5',\n",
       " 'models/model_201728_19:19:56.h5',\n",
       " 'models/model_201728_19:23:52.h5',\n",
       " 'models/model_201728_19:27:45.h5',\n",
       " 'models/model_201728_19:31:41.h5',\n",
       " 'models/model_201728_19:4:18.h5',\n",
       " 'models/model_201728_19:8:12.h5']"
      ]
     },
     "execution_count": 7,
     "metadata": {},
     "output_type": "execute_result"
    }
   ],
   "source": [
    "import glob\n",
    "a = glob.glob(\"models/model_*.h5\")\n",
    "a.sort()\n",
    "a"
   ]
  },
  {
   "cell_type": "code",
   "execution_count": 1,
   "metadata": {
    "collapsed": false
   },
   "outputs": [],
   "source": [
    "pool_size = (2, 2, 2)\n",
    "image_shape = (144, 240, 240)\n",
    "n_channels = 3\n",
    "input_shape = tuple([n_channels] + list(image_shape))\n",
    "n_labels = 5\n",
    "batch_size = 1\n",
    "n_test_subjects = 40\n",
    "z_crop = 155 - image_shape[0]"
   ]
  },
  {
   "cell_type": "code",
   "execution_count": 2,
   "metadata": {
    "collapsed": false
   },
   "outputs": [
    {
     "name": "stderr",
     "output_type": "stream",
     "text": [
      "Using Theano backend.\n"
     ]
    }
   ],
   "source": [
    "import os\n",
    "import glob\n",
    "import pickle\n",
    "import datetime\n",
    "\n",
    "import numpy as np\n",
    "\n",
    "from keras.layers import (Conv3D, AveragePooling3D, MaxPooling3D, Activation, UpSampling3D, merge, Input)\n",
    "from keras import backend as K\n",
    "from keras.models import Model\n",
    "from keras.optimizers import Adam\n",
    "\n",
    "import SimpleITK as sitk"
   ]
  },
  {
   "cell_type": "code",
   "execution_count": 3,
   "metadata": {
    "collapsed": true
   },
   "outputs": [],
   "source": [
    "def pickle_dump(item, out_file):\n",
    "    with open(out_file, \"wb\") as opened_file:\n",
    "        pickle.dump(item, opened_file)"
   ]
  },
  {
   "cell_type": "code",
   "execution_count": 4,
   "metadata": {
    "collapsed": true
   },
   "outputs": [],
   "source": [
    "K.set_image_dim_ordering('th')   \n",
    "\n",
    "smooth = 1.\n",
    "\n",
    "def dice_coef(y_true, y_pred):\n",
    "    y_true_f = K.flatten(y_true)\n",
    "    y_pred_f = K.flatten(y_pred)\n",
    "    intersection = K.sum(y_true_f * y_pred_f)\n",
    "    return (2. * intersection + smooth) / (K.sum(y_true_f) + K.sum(y_pred_f) + smooth)\n",
    "\n",
    "\n",
    "def dice_coef_loss(y_true, y_pred):\n",
    "    return -dice_coef(y_true, y_pred)\n",
    "\n",
    "def unet_model():\n",
    "    inputs = Input(input_shape)\n",
    "    conv1 = Conv3D(32, 3, 3, 3, activation='relu', border_mode='same')(inputs)\n",
    "    conv1 = Conv3D(32, 3, 3, 3, activation='relu', border_mode='same')(conv1)\n",
    "    pool1 = MaxPooling3D(pool_size=pool_size)(conv1)\n",
    "\n",
    "    conv2 = Conv3D(64, 3, 3, 3, activation='relu', border_mode='same')(pool1)\n",
    "    conv2 = Conv3D(64, 3, 3, 3, activation='relu', border_mode='same')(conv2)\n",
    "    pool2 = MaxPooling3D(pool_size=pool_size)(conv2)\n",
    "\n",
    "    conv3 = Conv3D(128, 3, 3, 3, activation='relu', border_mode='same')(pool2)\n",
    "    conv3 = Conv3D(128, 3, 3, 3, activation='relu', border_mode='same')(conv3)\n",
    "    pool3 = MaxPooling3D(pool_size=pool_size)(conv3)\n",
    "\n",
    "    conv4 = Conv3D(256, 3, 3, 3, activation='relu', border_mode='same')(pool3)\n",
    "    conv4 = Conv3D(256, 3, 3, 3, activation='relu', border_mode='same')(conv4)\n",
    "    pool4 = MaxPooling3D(pool_size=pool_size)(conv4)\n",
    "\n",
    "    conv5 = Conv3D(512, 3, 3, 3, activation='relu', border_mode='same')(pool4)\n",
    "    conv5 = Conv3D(512, 3, 3, 3, activation='relu', border_mode='same')(conv5)\n",
    "\n",
    "    up6 = merge([UpSampling3D(size=pool_size)(conv5), conv4], mode='concat', concat_axis=1)\n",
    "    conv6 = Conv3D(256, 3, 3, 3, activation='relu', border_mode='same')(up6)\n",
    "    conv6 = Conv3D(256, 3, 3, 3, activation='relu', border_mode='same')(conv6)\n",
    "\n",
    "    up7 = merge([UpSampling3D(size=pool_size)(conv6), conv3], mode='concat', concat_axis=1)\n",
    "    conv7 = Conv3D(128, 3, 3, 3, activation='relu', border_mode='same')(up7)\n",
    "    conv7 = Conv3D(128, 3, 3, 3, activation='relu', border_mode='same')(conv7)\n",
    "\n",
    "    up8 = merge([UpSampling3D(size=pool_size)(conv7), conv2], mode='concat', concat_axis=1)\n",
    "    conv8 = Conv3D(64, 3, 3, 3, activation='relu', border_mode='same')(up8)\n",
    "    conv8 = Conv3D(64, 3, 3, 3, activation='relu', border_mode='same')(conv8)\n",
    "\n",
    "    up9 = merge([UpSampling3D(size=pool_size)(conv8), conv1], mode='concat', concat_axis=1)\n",
    "    conv9 = Conv3D(32, 3, 3, 3, activation='relu', border_mode='same')(up9)\n",
    "    conv9 = Conv3D(32, 3, 3, 3, activation='relu', border_mode='same')(conv9)\n",
    "\n",
    "    conv10 = Conv3D(n_labels, 1, 1, 1, activation='sigmoid')(conv9)\n",
    "\n",
    "    model = Model(input=inputs, output=conv10)\n",
    "\n",
    "    model.compile(optimizer=Adam(lr=1e-5), loss=dice_coef_loss, metrics=[dice_coef])\n",
    "\n",
    "    return model"
   ]
  },
  {
   "cell_type": "code",
   "execution_count": 5,
   "metadata": {
    "collapsed": true
   },
   "outputs": [],
   "source": [
    "def train_batch(batch, model):\n",
    "    x_train = batch[:,:3]\n",
    "    y_train = get_truth(batch)\n",
    "    del(batch)\n",
    "    model.train_on_batch(x_train, y_train)"
   ]
  },
  {
   "cell_type": "code",
   "execution_count": 6,
   "metadata": {
    "collapsed": true
   },
   "outputs": [],
   "source": [
    "def read_subject_folder(folder):    \n",
    "    flair_image = sitk.ReadImage(os.path.join(folder, \"Flair.nii.gz\"))\n",
    "    t1_image = sitk.ReadImage(os.path.join(folder, \"T1.nii.gz\"))\n",
    "    t1c_image = sitk.ReadImage(os.path.join(folder, \"T1c.nii.gz\"))\n",
    "    truth_image = sitk.ReadImage(os.path.join(folder, \"truth.nii.gz\"))\n",
    "    background_image = sitk.ReadImage(os.path.join(folder, \"background.nii.gz\"))\n",
    "    return np.array([sitk.GetArrayFromImage(t1_image), \n",
    "                     sitk.GetArrayFromImage(t1c_image), \n",
    "                     sitk.GetArrayFromImage(flair_image),\n",
    "                     sitk.GetArrayFromImage(truth_image),\n",
    "                     sitk.GetArrayFromImage(background_image)])"
   ]
  },
  {
   "cell_type": "code",
   "execution_count": 7,
   "metadata": {
    "collapsed": true
   },
   "outputs": [],
   "source": [
    "def crop_data(data, background_channel=4):\n",
    "    if np.all(data[background_channel, :z_crop] == 1):\n",
    "        return data[:, z_crop:]\n",
    "    elif np.all(data[background_channel, data.shape[1] - z_crop:] == 1):\n",
    "        return data[:, :data.shape[1] - z_crop]\n",
    "    else:\n",
    "        raise Exception(\"Cannot crop volume\")"
   ]
  },
  {
   "cell_type": "code",
   "execution_count": 8,
   "metadata": {
    "collapsed": false
   },
   "outputs": [],
   "source": [
    "def get_truth(batch, truth_channel=3):\n",
    "    truth = np.array(batch)[:, truth_channel]\n",
    "    batch_list = []\n",
    "    for sample_number in range(truth.shape[0]):\n",
    "        sample_list = []\n",
    "        for label in range(1, n_labels+1):\n",
    "            array = np.zeros_like(truth[sample_number])\n",
    "            array[truth[sample_number] == label] = 1\n",
    "            sample_list.append(array)\n",
    "        batch_list.append(sample_list)\n",
    "    return np.array(batch_list)"
   ]
  },
  {
   "cell_type": "code",
   "execution_count": 9,
   "metadata": {
    "collapsed": false
   },
   "outputs": [],
   "source": [
    "model = unet_model()"
   ]
  },
  {
   "cell_type": "code",
   "execution_count": 10,
   "metadata": {
    "collapsed": false
   },
   "outputs": [],
   "source": [
    "subject_dirs = glob.glob(\"data/*/*\")"
   ]
  },
  {
   "cell_type": "code",
   "execution_count": 11,
   "metadata": {
    "collapsed": false
   },
   "outputs": [],
   "source": [
    "# reomove duplicate sessions\n",
    "subjects = dict()\n",
    "for dirname in subject_dirs:\n",
    "    subjects[dirname.split('_')[-2]] = dirname"
   ]
  },
  {
   "cell_type": "code",
   "execution_count": 12,
   "metadata": {
    "collapsed": false
   },
   "outputs": [],
   "source": [
    "subject_ids = subjects.keys()\n",
    "np.random.shuffle(subject_ids)"
   ]
  },
  {
   "cell_type": "code",
   "execution_count": 13,
   "metadata": {
    "collapsed": false
   },
   "outputs": [],
   "source": [
    "training_ids = subject_ids[:n_test_subjects]\n",
    "testing_ids = subject_ids[n_test_subjects:]"
   ]
  },
  {
   "cell_type": "code",
   "execution_count": 14,
   "metadata": {
    "collapsed": false
   },
   "outputs": [],
   "source": [
    "pickle_dump(training_ids, \"training_ids.pkl\")\n",
    "pickle_dump(testing_ids, \"testing_ids.pkl\")"
   ]
  },
  {
   "cell_type": "code",
   "execution_count": 15,
   "metadata": {
    "collapsed": false
   },
   "outputs": [
    {
     "ename": "NameError",
     "evalue": "name 'datetime' is not defined",
     "output_type": "error",
     "traceback": [
      "\u001b[0;31m---------------------------------------------------------------------------\u001b[0m",
      "\u001b[0;31mNameError\u001b[0m                                 Traceback (most recent call last)",
      "\u001b[0;32m<ipython-input-15-37ad37295700>\u001b[0m in \u001b[0;36m<module>\u001b[0;34m()\u001b[0m\n\u001b[1;32m      6\u001b[0m     \u001b[0mtrain_batch\u001b[0m\u001b[0;34m(\u001b[0m\u001b[0mnp\u001b[0m\u001b[0;34m.\u001b[0m\u001b[0marray\u001b[0m\u001b[0;34m(\u001b[0m\u001b[0mbatch\u001b[0m\u001b[0;34m)\u001b[0m\u001b[0;34m,\u001b[0m \u001b[0mmodel\u001b[0m\u001b[0;34m)\u001b[0m\u001b[0;34m\u001b[0m\u001b[0m\n\u001b[1;32m      7\u001b[0m \u001b[0;34m\u001b[0m\u001b[0m\n\u001b[0;32m----> 8\u001b[0;31m     \u001b[0mdate\u001b[0m \u001b[0;34m=\u001b[0m \u001b[0mdatetime\u001b[0m\u001b[0;34m.\u001b[0m\u001b[0mdatetime\u001b[0m\u001b[0;34m.\u001b[0m\u001b[0mnow\u001b[0m\u001b[0;34m(\u001b[0m\u001b[0;34m)\u001b[0m\u001b[0;34m.\u001b[0m\u001b[0mdate\u001b[0m\u001b[0;34m(\u001b[0m\u001b[0;34m)\u001b[0m\u001b[0;34m\u001b[0m\u001b[0m\n\u001b[0m\u001b[1;32m      9\u001b[0m     \u001b[0mtime\u001b[0m \u001b[0;34m=\u001b[0m \u001b[0mdatetime\u001b[0m\u001b[0;34m.\u001b[0m\u001b[0mdatetime\u001b[0m\u001b[0;34m.\u001b[0m\u001b[0mnow\u001b[0m\u001b[0;34m(\u001b[0m\u001b[0;34m)\u001b[0m\u001b[0;34m.\u001b[0m\u001b[0mtime\u001b[0m\u001b[0;34m(\u001b[0m\u001b[0;34m)\u001b[0m\u001b[0;34m\u001b[0m\u001b[0m\n\u001b[1;32m     10\u001b[0m     model_file = \"model_{0}{1}{2}_{3}:{4}:{5}.h5\".format(date.year, date.month, date.day,\n",
      "\u001b[0;31mNameError\u001b[0m: name 'datetime' is not defined"
     ]
    }
   ],
   "source": [
    "batch = []\n",
    "for subject_dir in subject_dirs:\n",
    "\n",
    "    batch.append(crop_data(read_subject_folder(subject_dir)))\n",
    "\n",
    "    train_batch(np.array(batch), model)\n",
    "    \n",
    "    date = datetime.datetime.now().date()\n",
    "    time = datetime.datetime.now().time()\n",
    "    model_file = \"model_{0}{1}{2}_{3}:{4}:{5}.h5\".format(date.year, date.month, date.day,\n",
    "                                                         time.hour, time.minute, time.second)\n",
    "    model.save(moel_file)"
   ]
  }
 ],
 "metadata": {
  "kernelspec": {
   "display_name": "Python [Root]",
   "language": "python",
   "name": "Python [Root]"
  },
  "language_info": {
   "codemirror_mode": {
    "name": "ipython",
    "version": 2
   },
   "file_extension": ".py",
   "mimetype": "text/x-python",
   "name": "python",
   "nbconvert_exporter": "python",
   "pygments_lexer": "ipython2",
   "version": "2.7.12"
  }
 },
 "nbformat": 4,
 "nbformat_minor": 0
}
