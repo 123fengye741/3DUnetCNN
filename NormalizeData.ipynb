{
 "cells": [
  {
   "cell_type": "code",
   "execution_count": 1,
   "metadata": {
    "collapsed": true
   },
   "outputs": [],
   "source": [
    "from nipype.interfaces.ants import N4BiasFieldCorrection\n",
    "import numpy as np\n",
    "import glob\n",
    "import os\n",
    "import nibabel as nib\n",
    "import SimpleITK as sitk"
   ]
  },
  {
   "cell_type": "code",
   "execution_count": 2,
   "metadata": {
    "collapsed": true
   },
   "outputs": [],
   "source": [
    "def get_background_mask(in_folder, out_file):\n",
    "    background_image = None\n",
    "    for name in [\"T1\", \"T1c\", \"Flair\", \".OT\"]:\n",
    "        image = sitk.ReadImage(get_image(in_folder, name))\n",
    "        if background_image:\n",
    "            if name == \".OT\" and not (image.GetOrigin() == background_image.GetOrigin()):\n",
    "                image.SetOrigin(background_image.GetOrigin())\n",
    "            background_image = sitk.And(image == 0, background_image)\n",
    "        else:\n",
    "            background_image = image == 0\n",
    "    sitk.WriteImage(background_image, out_file)\n",
    "    return os.path.abspath(out_file)"
   ]
  },
  {
   "cell_type": "code",
   "execution_count": 3,
   "metadata": {
    "collapsed": true
   },
   "outputs": [],
   "source": [
    "def convert_image_format(in_file, out_file):\n",
    "    sitk.WriteImage(sitk.ReadImage(in_file), out_file)\n",
    "    return out_file"
   ]
  },
  {
   "cell_type": "code",
   "execution_count": 4,
   "metadata": {
    "collapsed": true
   },
   "outputs": [],
   "source": [
    "def window_intensities(in_file, out_file, min_percent=1, max_percent=99):\n",
    "    image = sitk.ReadImage(in_file)\n",
    "    image_data = sitk.GetArrayFromImage(image)\n",
    "    out_image = sitk.IntensityWindowing(image, np.percentile(image_data, min_percent), np.percentile(image_data,\n",
    "                                                                                                     max_percent))\n",
    "    sitk.WriteImage(out_image, out_file)\n",
    "    return os.path.abspath(out_file)"
   ]
  },
  {
   "cell_type": "code",
   "execution_count": 5,
   "metadata": {
    "collapsed": true
   },
   "outputs": [],
   "source": [
    "def correct_bias(in_file, out_file):\n",
    "    correct = N4BiasFieldCorrection()\n",
    "    correct.inputs.input_image = in_file\n",
    "    correct.inputs.output_image = out_file\n",
    "    done = correct.run()\n",
    "    return done.outputs.output_image"
   ]
  },
  {
   "cell_type": "code",
   "execution_count": 6,
   "metadata": {
    "collapsed": true
   },
   "outputs": [],
   "source": [
    "def rescale(in_file, out_file, minimum=0, maximum=20000):\n",
    "    import SimpleITK as sitk\n",
    "    image = sitk.ReadImage(in_file)\n",
    "    sitk.WriteImage(sitk.RescaleIntensity(image, minimum, maximum), out_file)\n",
    "    return os.path.abspath(out_file)"
   ]
  },
  {
   "cell_type": "code",
   "execution_count": 7,
   "metadata": {
    "collapsed": true
   },
   "outputs": [],
   "source": [
    "def get_image(subject_folder, name):\n",
    "    return glob.glob(os.path.join(subject_folder, \"*\" + name + \".*\", \"*\" + name + \".*.mha\"))[0]"
   ]
  },
  {
   "cell_type": "code",
   "execution_count": 8,
   "metadata": {
    "collapsed": true
   },
   "outputs": [],
   "source": [
    "def append_basename(in_file, append):\n",
    "    dirname, basename = os.path.split(in_file)\n",
    "    base, ext = basename.split(\".\", 1)\n",
    "    return os.path.join(dirname, base + append + \".\" + ext)"
   ]
  },
  {
   "cell_type": "code",
   "execution_count": 9,
   "metadata": {
    "collapsed": true
   },
   "outputs": [],
   "source": [
    "def background_to_zero(in_file, background_file, out_file):\n",
    "    sitk.WriteImage(sitk.Mask(sitk.ReadImage(in_file), sitk.ReadImage(background_file, sitk.sitkUInt8) == 0),\n",
    "                    out_file)\n",
    "    return out_file"
   ]
  },
  {
   "cell_type": "code",
   "execution_count": 10,
   "metadata": {
    "collapsed": true
   },
   "outputs": [],
   "source": [
    "def check_origin(in_file, in_file2):\n",
    "    image = sitk.ReadImage(in_file)\n",
    "    image2 = sitk.ReadImage(in_file2)\n",
    "    if not image.GetOrigin() == image2.GetOrigin():\n",
    "        image.SetOrigin(image2.GetOrigin())\n",
    "    sitk.WriteImage(image, in_file)"
   ]
  },
  {
   "cell_type": "code",
   "execution_count": 11,
   "metadata": {
    "collapsed": true
   },
   "outputs": [],
   "source": [
    "def normalize_image(in_file, out_file, background_mask):\n",
    "    converted = convert_image_format(in_file, append_basename(out_file, \"_converted\"))\n",
    "    initial_rescale = rescale(converted, append_basename(out_file, \"_initial_rescale\"))\n",
    "    zeroed = background_to_zero(initial_rescale, background_mask, append_basename(out_file, \"_zeroed\"))\n",
    "    windowed = window_intensities(zeroed, append_basename(out_file, \"_windowed\"))\n",
    "    corrected = correct_bias(windowed, append_basename(out_file, \"_corrected\"))\n",
    "    rescaled = rescale(corrected, out_file, maximum=1)\n",
    "    for f in [converted, initial_rescale, zeroed, windowed, corrected]:\n",
    "        os.remove(f)\n",
    "    return rescaled"
   ]
  },
  {
   "cell_type": "code",
   "execution_count": 12,
   "metadata": {
    "collapsed": true
   },
   "outputs": [],
   "source": [
    "def normalize_folder(in_folder, out_folder, background_mask):\n",
    "    for name in [\"T1\", \"T1c\", \"Flair\", \".OT\"]:\n",
    "        image_file = get_image(in_folder, name)\n",
    "        if name == \".OT\":\n",
    "            out_file = os.path.abspath(os.path.join(out_folder, \"truth.nii.gz\"))\n",
    "            converted = convert_image_format(image_file, out_file)\n",
    "            check_origin(converted, background_mask)\n",
    "        else:\n",
    "            out_file = os.path.abspath(os.path.join(out_folder, name + \".nii.gz\"))\n",
    "            normalize_image(image_file, out_file, background_mask)"
   ]
  },
  {
   "cell_type": "code",
   "execution_count": 13,
   "metadata": {
    "collapsed": true
   },
   "outputs": [],
   "source": [
    "def normalize_data(brats_folder, out_folder):\n",
    "    for subject_folder in glob.glob(os.path.join(brats_folder, \"*\", \"*\")):\n",
    "        if os.path.isdir(subject_folder):\n",
    "            subject = os.path.basename(subject_folder)\n",
    "            new_subject_folder = os.path.join(out_folder, os.path.basename(os.path.dirname(subject_folder)), \n",
    "                                              subject)\n",
    "            if not os.path.exists(new_subject_folder):\n",
    "                os.makedirs(new_subject_folder)\n",
    "            else:\n",
    "                continue\n",
    "            background_mask = get_background_mask(subject_folder, \n",
    "                                                  os.path.join(new_subject_folder, \"background.nii.gz\"))\n",
    "            normalize_folder(subject_folder, new_subject_folder, background_mask)"
   ]
  },
  {
   "cell_type": "code",
   "execution_count": 15,
   "metadata": {
    "collapsed": false
   },
   "outputs": [],
   "source": [
    "normalize_data(\"/home/neuro-user/Downloads/BRATS/BRATS2015_Training/\", \"./data/\")"
   ]
  }
 ],
 "metadata": {
  "kernelspec": {
   "display_name": "Python [Root]",
   "language": "python",
   "name": "Python [Root]"
  },
  "language_info": {
   "codemirror_mode": {
    "name": "ipython",
    "version": 2
   },
   "file_extension": ".py",
   "mimetype": "text/x-python",
   "name": "python",
   "nbconvert_exporter": "python",
   "pygments_lexer": "ipython2",
   "version": "2.7.12"
  }
 },
 "nbformat": 4,
 "nbformat_minor": 0
}
