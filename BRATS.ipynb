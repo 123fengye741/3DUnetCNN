{
 "cells": [
  {
   "cell_type": "code",
   "execution_count": 27,
   "metadata": {
    "collapsed": true
   },
   "outputs": [],
   "source": [
    "n_filters = [68, 68, 34, 34, 17, 17]\n",
    "kernels = [(7,7,7), (7,7,7), (5,5,5), (5,5,5), (3,3,3), (3,3,3)]\n",
    "n_test_subjects = 40\n",
    "batch_size = 1000\n",
    "n_channels = 3\n",
    "patch_size = 33\n",
    "middle = patch_size/2\n",
    "patch_shape = (n_channels, patch_size, patch_size, patch_size)\n",
    "data_patch_shape = (n_channels + 2, patch_size, patch_size, patch_size)"
   ]
  },
  {
   "cell_type": "code",
   "execution_count": 2,
   "metadata": {
    "collapsed": false
   },
   "outputs": [
    {
     "name": "stderr",
     "output_type": "stream",
     "text": [
      "Using Theano backend.\n"
     ]
    }
   ],
   "source": [
    "import keras\n",
    "from keras.models import Sequential\n",
    "from keras.layers import Conv3D, AveragePooling3D, MaxPooling3D, ZeroPadding3D, Dropout, Flatten, Dense, Activation\n",
    "from keras.optimizers import SGD\n",
    "from sklearn.feature_extraction.image import extract_patches"
   ]
  },
  {
   "cell_type": "code",
   "execution_count": 3,
   "metadata": {
    "collapsed": true
   },
   "outputs": [],
   "source": [
    "import nibabel as nib\n",
    "import SimpleITK as sitk\n",
    "import glob\n",
    "import numpy as np\n",
    "import os\n",
    "import datetime"
   ]
  },
  {
   "cell_type": "code",
   "execution_count": 4,
   "metadata": {
    "collapsed": true
   },
   "outputs": [],
   "source": [
    "from nipype.interfaces.ants import N4BiasFieldCorrection"
   ]
  },
  {
   "cell_type": "code",
   "execution_count": 5,
   "metadata": {
    "collapsed": true
   },
   "outputs": [],
   "source": [
    "import pickle\n",
    "def pickle_dump(item, out_file):\n",
    "    with open(out_file, \"wb\") as opened_file:\n",
    "        pickle.dump(item, opened_file)"
   ]
  },
  {
   "cell_type": "code",
   "execution_count": 6,
   "metadata": {
    "collapsed": true
   },
   "outputs": [],
   "source": [
    "def correct_bias(in_file, out_file=None):\n",
    "    n4 = N4BiasFieldCorrection()\n",
    "    n4.inputs.in_file = in_file\n",
    "    if not out_file:\n",
    "        out_file = os.path.join(os.path.dirname(in_file), \"bias_corrected_\" + os.path.basename(in_file))\n",
    "    n4.inputs.out_file = os.path.baspath(out_file)\n",
    "    return out_file"
   ]
  },
  {
   "cell_type": "code",
   "execution_count": 7,
   "metadata": {
    "collapsed": true
   },
   "outputs": [],
   "source": [
    "def sitk_corrrect_bias(image):\n",
    "    return sitk.N4BiasFieldCorrection(sitk.Cast(image, sitk.sitkFloat64),\n",
    "                                      image == image)"
   ]
  },
  {
   "cell_type": "code",
   "execution_count": 8,
   "metadata": {
    "collapsed": true
   },
   "outputs": [],
   "source": [
    "def read_image(subject_folder, name):\n",
    "    return sitk.ReadImage(glob.glob(os.path.join(subject_folder,\n",
    "                                                 \"*\" + name + \".*\",\n",
    "                                                 \"*\" + name + \".*.mha\"))[0])"
   ]
  },
  {
   "cell_type": "code",
   "execution_count": 9,
   "metadata": {
    "collapsed": false
   },
   "outputs": [],
   "source": [
    "def read_subject_folder(folder):    \n",
    "    flair_image = sitk.ReadImage(os.path.join(folder, \"Flair.nii.gz\"))\n",
    "    t1_image = sitk.ReadImage(os.path.join(folder, \"T1.nii.gz\"))\n",
    "    t1c_image = sitk.ReadImage(os.path.join(folder, \"T1c.nii.gz\"))\n",
    "    truth_image = sitk.ReadImage(os.path.join(folder, \"truth.nii.gz\"))\n",
    "    background_image = sitk.ReadImage(os.path.join(folder, \"background.nii.gz\"))\n",
    "    return np.array([sitk.GetArrayFromImage(t1_image), \n",
    "                     sitk.GetArrayFromImage(t1c_image), \n",
    "                     sitk.GetArrayFromImage(flair_image),\n",
    "                     sitk.GetArrayFromImage(truth_image),\n",
    "                     sitk.GetArrayFromImage(background_image)])"
   ]
  },
  {
   "cell_type": "code",
   "execution_count": 10,
   "metadata": {
    "collapsed": true
   },
   "outputs": [],
   "source": [
    "def delete_background_patches(batch):\n",
    "    background = batch[:,4,middle,middle,middle]\n",
    "    return batch[background != 1]\n",
    "\n",
    "def train_batch(batch, model):\n",
    "    print(batch.shape)\n",
    "    batch = delete_background_patches(batch)\n",
    "    print(batch.shape)\n",
    "    x_train = batch[:,:3,:,:]\n",
    "    y_train = batch[:,3,middle,middle,middle]\n",
    "    del(batch)\n",
    "    model.train_on_batch(x_train, y_train)"
   ]
  },
  {
   "cell_type": "code",
   "execution_count": 11,
   "metadata": {
    "collapsed": true
   },
   "outputs": [],
   "source": [
    "def index_num_2_index(index_number, array_shape):\n",
    "    index = [0 for i in range(len(array_shape))]\n",
    "    aaa(index_number, array_shape, -1, index)\n",
    "    return index"
   ]
  },
  {
   "cell_type": "code",
   "execution_count": 12,
   "metadata": {
    "collapsed": true
   },
   "outputs": [],
   "source": [
    "def aaa(x, y, z, index):\n",
    "    if x > y[z]:\n",
    "        aaa(x/y[z], y, z-1, index)\n",
    "    index[z] = np.remainder(x, y[z])"
   ]
  },
  {
   "cell_type": "code",
   "execution_count": 13,
   "metadata": {
    "collapsed": false
   },
   "outputs": [],
   "source": [
    "def get_n_patches(patches):\n",
    "    n_patches = 1\n",
    "    return product_of_array(patches.shape[:4])\n",
    "\n",
    "\n",
    "def product_of_array(array):\n",
    "    x = 1\n",
    "    for element in array:\n",
    "        x *= element\n",
    "    return x"
   ]
  },
  {
   "cell_type": "code",
   "execution_count": 14,
   "metadata": {
    "collapsed": true
   },
   "outputs": [],
   "source": [
    "def pop_random(in_list):\n",
    "    index = np.random.choice(range(len(in_list)))\n",
    "    return in_list.pop(index)"
   ]
  },
  {
   "cell_type": "code",
   "execution_count": 15,
   "metadata": {
    "collapsed": true
   },
   "outputs": [],
   "source": [
    "def get_patch_from_index_number(index_number, patches):\n",
    "    index = index_num_2_index(index_num, patches.shape[:4])\n",
    "    return get_patch_from_index(index, patches)\n",
    "\n",
    "\n",
    "def get_patch_from_index(index, patches):\n",
    "    return patches[index[0], index[1], index[2], index[3]]"
   ]
  },
  {
   "cell_type": "code",
   "execution_count": 42,
   "metadata": {
    "collapsed": true
   },
   "outputs": [],
   "source": [
    "def iteration_is_background(index_number, patches, background_channel=4):\n",
    "    index = index_num_2_index(index_number, array_shape=patches.shape[:4])\n",
    "    return patches[index[0], index[1], index[2], index[3], background_channel, middle, middle, middle] == 1\n",
    "\n",
    "def foreground_iterations(patches):\n",
    "    #TODO: increase speed by removing for loop\n",
    "    n_patches = get_n_patches(patches)\n",
    "    iterations = []\n",
    "    for i in range(n_patches):\n",
    "        if not iteration_is_background(i, patches):\n",
    "            iterations.append(i)\n",
    "    return iterations"
   ]
  },
  {
   "cell_type": "code",
   "execution_count": 16,
   "metadata": {
    "collapsed": true
   },
   "outputs": [],
   "source": [
    "def train_model(data, model, batch_size=100):\n",
    "\n",
    "    patches = extract_patches(data, patch_shape=data_patch_shape)\n",
    "    n_patches = get_n_patches(patches)\n",
    "\n",
    "    iterations = range(n_patches)\n",
    "    while len(iterations) > 0:\n",
    "        indexes_to_process = []\n",
    "        if len(iterations) > batch_size:\n",
    "\n",
    "            for i in range(batch_size):\n",
    "                indexes_to_process.append(pop_random(iterations))\n",
    "                \n",
    "        else:\n",
    "            [indexes_to_process.append(pop_random(iterations)) for i in range(len(iterations))]\n",
    "        \n",
    "        batch = []\n",
    "        for i in indexes_to_process:\n",
    "            batch.append(get_patch_from_index_number(i, patches))\n",
    "\n",
    "        train_batch(np.array(batch), model)\n",
    "        print(len(iterations))\n",
    "    return model"
   ]
  },
  {
   "cell_type": "code",
   "execution_count": 16,
   "metadata": {
    "collapsed": true
   },
   "outputs": [],
   "source": [
    "subject_dirs = glob.glob(\"data/*/*\")"
   ]
  },
  {
   "cell_type": "code",
   "execution_count": 17,
   "metadata": {
    "collapsed": false
   },
   "outputs": [],
   "source": [
    "# reomove duplicate sessions\n",
    "subjects = dict()\n",
    "for dirname in subject_dirs:\n",
    "    subjects[dirname.split('_')[-2]] = dirname"
   ]
  },
  {
   "cell_type": "code",
   "execution_count": 18,
   "metadata": {
    "collapsed": false
   },
   "outputs": [],
   "source": [
    "subject_ids = subjects.keys()\n",
    "np.random.shuffle(subject_ids)"
   ]
  },
  {
   "cell_type": "code",
   "execution_count": 19,
   "metadata": {
    "collapsed": false
   },
   "outputs": [],
   "source": [
    "training_ids = subject_ids[:n_test_subjects]\n",
    "testing_ids = subject_ids[n_test_subjects:]"
   ]
  },
  {
   "cell_type": "code",
   "execution_count": 20,
   "metadata": {
    "collapsed": false
   },
   "outputs": [],
   "source": [
    "pickle_dump(training_ids, \"training_ids.pkl\")\n",
    "pickle_dump(testing_ids, \"testing_ids.pkl\")"
   ]
  },
  {
   "cell_type": "code",
   "execution_count": 21,
   "metadata": {
    "collapsed": false
   },
   "outputs": [],
   "source": []
  },
  {
   "cell_type": "code",
   "execution_count": 22,
   "metadata": {
    "collapsed": false
   },
   "outputs": [],
   "source": [
    "dim_ordering = 'th'\n",
    "model = Sequential()\n",
    "model.add(Conv3D(input_shape=patch_shape, \n",
    "                 dim_ordering='th',\n",
    "                 nb_filter=n_filters[0],\n",
    "                 kernel_dim1=kernels[0][0],\n",
    "                 kernel_dim2=kernels[0][1],\n",
    "                 kernel_dim3=kernels[0][2],\n",
    "                 activation='relu'))\n",
    "# model.add(Conv3D(input_shape=patch_shape, \n",
    "#                  dim_ordering='th',\n",
    "#                  nb_filter=n_filters[1],\n",
    "#                  kernel_dim1=kernels[1][0],\n",
    "#                  kernel_dim2=kernels[1][1],\n",
    "#                  kernel_dim3=kernels[1][2],\n",
    "#                  activation='relu'))\n",
    "model.add(MaxPooling3D(pool_size=(2,2,2)))\n",
    "\n",
    "# model.add(Conv3D(input_shape=patch_shape, \n",
    "#                  dim_ordering='th',\n",
    "#                  nb_filter=n_filters[2],\n",
    "#                  kernel_dim1=kernels[2][0],\n",
    "#                  kernel_dim2=kernels[2][1],\n",
    "#                  kernel_dim3=kernels[2][2],\n",
    "#                  activation='relu'))\n",
    "# model.add(Conv3D(input_shape=patch_shape, \n",
    "#                  dim_ordering='th',\n",
    "#                  nb_filter=n_filters[3],\n",
    "#                  kernel_dim1=kernels[3][0],\n",
    "#                  kernel_dim2=kernels[3][1],\n",
    "#                  kernel_dim3=kernels[3][2],\n",
    "#                  activation='relu'))\n",
    "# model.add(MaxPooling3D(pool_size=(2,2,2), strides=(1,1,1)))\n",
    "\n",
    "# model.add(Conv3D(input_shape=patch_shape, \n",
    "#                  dim_ordering='th',\n",
    "#                  nb_filter=n_filters[4],\n",
    "#                  kernel_dim1=kernels[4][0],\n",
    "#                  kernel_dim2=kernels[4][1],\n",
    "#                  kernel_dim3=kernels[4][2],\n",
    "#                  activation='relu'))\n",
    "# model.add(Conv3D(input_shape=patch_shape, \n",
    "#                  dim_ordering='th',\n",
    "#                  nb_filter=n_filters[5],\n",
    "#                  kernel_dim1=kernels[5][0],\n",
    "#                  kernel_dim2=kernels[5][1],\n",
    "#                  kernel_dim3=kernels[5][2],\n",
    "#                  activation='relu'))\n",
    "# model.add(MaxPooling3D(pool_size=(2,2,2), strides=(1,1,1)))\n",
    "\n",
    "model.add(Flatten())\n",
    "model.add(Dense(5, init='normal'))\n",
    "model.add(Activation('softmax'))\n",
    "sgd = SGD(lr=0.001, decay=0.01, momentum=0.9)\n",
    "model.compile(loss='sparse_categorical_crossentropy', optimizer='sgd')"
   ]
  },
  {
   "cell_type": "code",
   "execution_count": null,
   "metadata": {
    "collapsed": false
   },
   "outputs": [
    {
     "name": "stdout",
     "output_type": "stream",
     "text": [
      "(1000, 5, 33, 33, 33)\n",
      "(0, 5, 33, 33, 33)\n"
     ]
    }
   ],
   "source": [
    "for subject_dir in subject_dirs:\n",
    "    train_model(read_subject_folder(subject_dir), model, batch_size=batch_size)\n",
    "    date = datetime.datetime.now().date()\n",
    "    time = datetime.datetime.now().time()\n",
    "    model_file = \"model_{0}{1}{2}_{3}:{4}:{5}.h5\".format(date.year, date.month, date.day,\n",
    "                                                         time.hour, time.minute, time.second)\n",
    "    model.save(moel_file)"
   ]
  },
  {
   "cell_type": "code",
   "execution_count": 17,
   "metadata": {
    "collapsed": true
   },
   "outputs": [],
   "source": [
    "data = read_subject_folder(\"data/HGG/brats_2013_pat0001_1/\")"
   ]
  },
  {
   "cell_type": "code",
   "execution_count": 18,
   "metadata": {
    "collapsed": false
   },
   "outputs": [
    {
     "data": {
      "text/plain": [
       "(5, 155, 240, 240)"
      ]
     },
     "execution_count": 18,
     "metadata": {},
     "output_type": "execute_result"
    }
   ],
   "source": [
    "data.shape"
   ]
  },
  {
   "cell_type": "code",
   "execution_count": 19,
   "metadata": {
    "collapsed": true
   },
   "outputs": [],
   "source": [
    "import matplotlib.pyplot as plt\n",
    "%matplotlib inline"
   ]
  },
  {
   "cell_type": "code",
   "execution_count": 22,
   "metadata": {
    "collapsed": false
   },
   "outputs": [
    {
     "data": {
      "text/plain": [
       "<matplotlib.image.AxesImage at 0x7fecf99122d0>"
      ]
     },
     "execution_count": 22,
     "metadata": {},
     "output_type": "execute_result"
    },
    {
     "data": {
      "image/png": "[encoded data removed]",
      "text/plain": [
       "<matplotlib.figure.Figure at 0x7fecf996e9d0>"
      ]
     },
     "metadata": {},
     "output_type": "display_data"
    }
   ],
   "source": [
    "plt.imshow(data[4,:,:,66])"
   ]
  },
  {
   "cell_type": "code",
   "execution_count": 25,
   "metadata": {
    "collapsed": false
   },
   "outputs": [
    {
     "data": {
      "text/plain": [
       "<matplotlib.image.AxesImage at 0x7fecf96bc610>"
      ]
     },
     "execution_count": 25,
     "metadata": {},
     "output_type": "execute_result"
    },
    {
     "data": {
      "image/png": "[encoded data removed]",
      "text/plain": [
       "<matplotlib.figure.Figure at 0x7fecf9736450>"
      ]
     },
     "metadata": {},
     "output_type": "display_data"
    }
   ],
   "source": [
    "plt.imshow(data[3,:,:,66])"
   ]
  },
  {
   "cell_type": "code",
   "execution_count": 43,
   "metadata": {
    "collapsed": false
   },
   "outputs": [],
   "source": [
    "a = foreground_iterations(patches)"
   ]
  },
  {
   "cell_type": "code",
   "execution_count": 45,
   "metadata": {
    "collapsed": false
   },
   "outputs": [
    {
     "data": {
      "text/plain": [
       "5321472"
      ]
     },
     "execution_count": 45,
     "metadata": {},
     "output_type": "execute_result"
    }
   ],
   "source": [
    "n_patches"
   ]
  },
  {
   "cell_type": "code",
   "execution_count": 44,
   "metadata": {
    "collapsed": false
   },
   "outputs": [
    {
     "data": {
      "text/plain": [
       "1474898"
      ]
     },
     "execution_count": 44,
     "metadata": {},
     "output_type": "execute_result"
    }
   ],
   "source": [
    "len(a)"
   ]
  },
  {
   "cell_type": "code",
   "execution_count": 28,
   "metadata": {
    "collapsed": false
   },
   "outputs": [],
   "source": [
    "patches = extract_patches(data, patch_shape=data_patch_shape)\n",
    "n_patches = get_n_patches(patches)"
   ]
  },
  {
   "cell_type": "code",
   "execution_count": 38,
   "metadata": {
    "collapsed": false
   },
   "outputs": [
    {
     "ename": "MemoryError",
     "evalue": "",
     "output_type": "error",
     "traceback": [
      "\u001b[0;31m---------------------------------------------------------------------------\u001b[0m",
      "\u001b[0;31mMemoryError\u001b[0m                               Traceback (most recent call last)",
      "\u001b[0;32m<ipython-input-38-6c19a0949326>\u001b[0m in \u001b[0;36m<module>\u001b[0;34m()\u001b[0m\n\u001b[0;32m----> 1\u001b[0;31m \u001b[0mpatches_final\u001b[0m \u001b[0;34m=\u001b[0m \u001b[0mremove_background_patches\u001b[0m\u001b[0;34m(\u001b[0m\u001b[0mpatches\u001b[0m\u001b[0;34m)\u001b[0m\u001b[0;34m\u001b[0m\u001b[0m\n\u001b[0m",
      "\u001b[0;32m<ipython-input-37-25d9066bcba8>\u001b[0m in \u001b[0;36mremove_background_patches\u001b[0;34m(patches, background_index)\u001b[0m\n\u001b[1;32m      1\u001b[0m \u001b[0;32mdef\u001b[0m \u001b[0mremove_background_patches\u001b[0m\u001b[0;34m(\u001b[0m\u001b[0mpatches\u001b[0m\u001b[0;34m,\u001b[0m \u001b[0mbackground_index\u001b[0m\u001b[0;34m=\u001b[0m\u001b[0;36m4\u001b[0m\u001b[0;34m)\u001b[0m\u001b[0;34m:\u001b[0m\u001b[0;34m\u001b[0m\u001b[0m\n\u001b[0;32m----> 2\u001b[0;31m     \u001b[0;32mreturn\u001b[0m \u001b[0mpatches\u001b[0m\u001b[0;34m[\u001b[0m\u001b[0mpatches\u001b[0m\u001b[0;34m[\u001b[0m\u001b[0;34m:\u001b[0m\u001b[0;34m,\u001b[0m\u001b[0;34m:\u001b[0m\u001b[0;34m,\u001b[0m\u001b[0;34m:\u001b[0m\u001b[0;34m,\u001b[0m\u001b[0;34m:\u001b[0m\u001b[0;34m,\u001b[0m\u001b[0mbackground_index\u001b[0m\u001b[0;34m,\u001b[0m\u001b[0mmiddle\u001b[0m\u001b[0;34m,\u001b[0m\u001b[0mmiddle\u001b[0m\u001b[0;34m,\u001b[0m\u001b[0mmiddle\u001b[0m\u001b[0;34m]\u001b[0m \u001b[0;34m==\u001b[0m \u001b[0;36m1\u001b[0m\u001b[0;34m]\u001b[0m\u001b[0;34m\u001b[0m\u001b[0m\n\u001b[0m",
      "\u001b[0;31mMemoryError\u001b[0m: "
     ]
    }
   ],
   "source": [
    "patches_final = remove_background_patches(patches)"
   ]
  },
  {
   "cell_type": "code",
   "execution_count": 30,
   "metadata": {
    "collapsed": false
   },
   "outputs": [],
   "source": [
    "background = patches[:,:,:,:,4,middle,middle,middle]"
   ]
  },
  {
   "cell_type": "code",
   "execution_count": 33,
   "metadata": {
    "collapsed": false
   },
   "outputs": [
    {
     "data": {
      "text/plain": [
       "(1, 123, 208, 208)"
      ]
     },
     "execution_count": 33,
     "metadata": {},
     "output_type": "execute_result"
    }
   ],
   "source": [
    "background.shape"
   ]
  },
  {
   "cell_type": "code",
   "execution_count": 36,
   "metadata": {
    "collapsed": false
   },
   "outputs": [
    {
     "data": {
      "text/plain": [
       "<matplotlib.image.AxesImage at 0x7fecea0b7090>"
      ]
     },
     "execution_count": 36,
     "metadata": {},
     "output_type": "execute_result"
    },
    {
     "data": {
      "image/png": "[encoded data removed]",
      "text/plain": [
       "<matplotlib.figure.Figure at 0x7fecf9866390>"
      ]
     },
     "metadata": {},
     "output_type": "display_data"
    }
   ],
   "source": [
    "plt.imshow(background[0,:,:,50])"
   ]
  }
 ],
 "metadata": {
  "kernelspec": {
   "display_name": "Python [Root]",
   "language": "python",
   "name": "Python [Root]"
  },
  "language_info": {
   "codemirror_mode": {
    "name": "ipython",
    "version": 2
   },
   "file_extension": ".py",
   "mimetype": "text/x-python",
   "name": "python",
   "nbconvert_exporter": "python",
   "pygments_lexer": "ipython2",
   "version": "2.7.12"
  }
 },
 "nbformat": 4,
 "nbformat_minor": 0
}
