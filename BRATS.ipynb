{
 "cells": [
  {
   "cell_type": "code",
   "execution_count": 1,
   "metadata": {
    "collapsed": false
   },
   "outputs": [
    {
     "name": "stderr",
     "output_type": "stream",
     "text": [
      "Using Theano backend.\n"
     ]
    }
   ],
   "source": [
    "import keras\n",
    "from keras.models import Sequential\n",
    "from keras.layers import Conv3D, AveragePooling3D, MaxPooling3D, ZeroPadding3D, Dropout, Flatten, Dense, Activation\n",
    "from keras.optimizers import SGD\n",
    "from sklearn.feature_extraction.image import extract_patches"
   ]
  },
  {
   "cell_type": "code",
   "execution_count": 22,
   "metadata": {
    "collapsed": true
   },
   "outputs": [],
   "source": [
    "import nibabel as nib\n",
    "import SimpleITK as sitk\n",
    "import glob\n",
    "import numpy as np\n",
    "import os\n",
    "import datetime"
   ]
  },
  {
   "cell_type": "code",
   "execution_count": 21,
   "metadata": {
    "collapsed": true
   },
   "outputs": [],
   "source": [
    "from nipype.interfaces.ants import N4BiasFieldCorrection"
   ]
  },
  {
   "cell_type": "code",
   "execution_count": null,
   "metadata": {
    "collapsed": true
   },
   "outputs": [],
   "source": [
    "def correct_bias(in_file, out_file=None):\n",
    "    n4 = N4BiasFieldCorrection()\n",
    "    n4.inputs.in_file = in_file\n",
    "    if not out_file:\n",
    "        out_file = os.path.join(os.path.dirname(in_file), \"bias_corrected_\" + os.path.basename(in_file))\n",
    "    n4.inputs.out_file = os.path.baspath(out_file)\n",
    "    return out_file"
   ]
  },
  {
   "cell_type": "code",
   "execution_count": 28,
   "metadata": {
    "collapsed": true
   },
   "outputs": [],
   "source": [
    "def sitk_corrrect_bias(image):\n",
    "    return sitk.N4BiasFieldCorrection(sitk.Cast(image, sitk.sitkFloat64),\n",
    "                                      image == image)"
   ]
  },
  {
   "cell_type": "code",
   "execution_count": 25,
   "metadata": {
    "collapsed": true
   },
   "outputs": [],
   "source": [
    "def read_image(subject_folder, name):\n",
    "    return sitk.ReadImage(glob.glob(os.path.join(subject_folder,\n",
    "                                                 \"*\" + name + \".*\",\n",
    "                                                 \"*\" + name + \".*.mha\"))[0])"
   ]
  },
  {
   "cell_type": "code",
   "execution_count": 24,
   "metadata": {
    "collapsed": false
   },
   "outputs": [],
   "source": [
    "def read_and_combine():\n",
    "    return read_subject_folder(\"/home/neuro-user/Downloads/BRATS/BRATS2015_Training/HGG/brats_2013_pat0001_1\")\n",
    "    \n",
    "def read_subject_folder(folder):\n",
    "    \"Truth is the last element in the data array.\"\n",
    "    data = []\n",
    "    for name in [\"T1\", \"T1c\", \"Flair\", \"3more\"]:\n",
    "        image = read_image(folder, name)\n",
    "        corrected_image = sitk_corrrect_bias(image)\n",
    "        data.append(sitk.GetArrayFromImage(corrected_image))\n",
    "    return np.array(data)"
   ]
  },
  {
   "cell_type": "code",
   "execution_count": 29,
   "metadata": {
    "collapsed": false
   },
   "outputs": [],
   "source": [
    "d = read_and_combine()"
   ]
  },
  {
   "cell_type": "code",
   "execution_count": 3,
   "metadata": {
    "collapsed": false
   },
   "outputs": [],
   "source": [
    "def read_and_combine():\n",
    "    return read_subject_folder(\"/home/neuro-user/Downloads/BRATS/BRATS2015_Training/HGG/brats_2013_pat0001_1\")\n",
    "    \n",
    "def read_subject_folder(folder):\n",
    "    data = []\n",
    "    for name in [\"T1\", \"T1c\", \"Flair\", \"3more\"]:\n",
    "        image = read_image(folder, name)\n",
    "        corrected_image = sitk_corrrect_bias(image)\n",
    "        data.append(sitk.GetArrayFromImage(corrected_image))\n",
    "    \n",
    "    flair_image = sitk.ReadImage(glob.glob(os.path.join(folder, \"*Flair.*\", \"*Flair*.mha\"))[0])\n",
    "    t1_image = sitk.ReadImage(glob.glob(os.path.join(folder, \"*T1.*\", \"*T1.*.mha\"))[0])\n",
    "    t1c_image = sitk.ReadImage(glob.glob(os.path.join(folder, \"*T1c.*\", \"*T1c.*.mha\"))[0])\n",
    "    truth_image = sitk.ReadImage(glob.glob(os.path.join(folder, \"*3more.*\", \"*3more.*.mha\"))[0])\n",
    "    return np.array([sitk.GetArrayFromImage(t1_image), \n",
    "                     sitk.GetArrayFromImage(t1c_image), \n",
    "                     sitk.GetArrayFromImage(flair_image),\n",
    "                     sitk.GetArrayFromImage(truth_image)])"
   ]
  },
  {
   "cell_type": "code",
   "execution_count": 4,
   "metadata": {
    "collapsed": true
   },
   "outputs": [],
   "source": [
    "def train_batch(batch, model):\n",
    "    x_train = batch[:,:3,:,:]\n",
    "    y_train = batch[:,3,16,16,16]\n",
    "    model.train_on_batch(x_train, y_train)"
   ]
  },
  {
   "cell_type": "code",
   "execution_count": 5,
   "metadata": {
    "collapsed": true
   },
   "outputs": [],
   "source": [
    "def index_num_2_index(index_number, array_shape):\n",
    "    index = [0 for i in range(len(array_shape))]\n",
    "    aaa(index_number, array_shape, -1, index)\n",
    "    return index"
   ]
  },
  {
   "cell_type": "code",
   "execution_count": 6,
   "metadata": {
    "collapsed": true
   },
   "outputs": [],
   "source": [
    "def aaa(x, y, z, index):\n",
    "    if x > y[z]:\n",
    "        aaa(x/y[z], y, z-1, index)\n",
    "    index[z] = np.remainder(x, y[z])"
   ]
  },
  {
   "cell_type": "code",
   "execution_count": 7,
   "metadata": {
    "collapsed": false
   },
   "outputs": [],
   "source": [
    "def get_n_patches(patches):\n",
    "    n_patches = 1\n",
    "    return product_of_array(patches.shape[:4])\n",
    "\n",
    "\n",
    "def product_of_array(array):\n",
    "    x = 1\n",
    "    for element in array:\n",
    "        x *= element\n",
    "    return x"
   ]
  },
  {
   "cell_type": "code",
   "execution_count": 15,
   "metadata": {
    "collapsed": true
   },
   "outputs": [],
   "source": [
    "def pop_random(in_list):\n",
    "    index = np.random.choice(range(len(in_list)))\n",
    "    return in_list.pop(index)"
   ]
  },
  {
   "cell_type": "code",
   "execution_count": 8,
   "metadata": {
    "collapsed": true
   },
   "outputs": [],
   "source": [
    "def train_model(data, model, batch_size=100):\n",
    "\n",
    "    patches = extract_patches(data, patch_shape=data_patch_shape)\n",
    "    n_patches = get_n_patches(patches)\n",
    "\n",
    "    iterations = range(n_patches)\n",
    "    while len(iterations) > 0:\n",
    "        indexes_to_process = []\n",
    "        if len(iterations) > batch_size:\n",
    "\n",
    "            for i in range(batch_size):\n",
    "                indexes_to_process.append(pop_random(iterations))\n",
    "                \n",
    "        else:\n",
    "            [indexes_to_process.append(pop_random(iterations)) for i in range(len(iterations))]\n",
    "        \n",
    "        batch = []\n",
    "        for i in indexes_to_process:\n",
    "            index = index_num_2_index(i, patches.shape)\n",
    "            batch.append(patches[index[0], index[1], index[2], index[3]])\n",
    "\n",
    "        train_batch(np.array(batch), model)\n",
    "        \n",
    "    return model"
   ]
  },
  {
   "cell_type": "code",
   "execution_count": 9,
   "metadata": {
    "collapsed": true
   },
   "outputs": [],
   "source": [
    "subject_dirs = glob.glob(\"/home/neuro-user/Downloads/BRATS/BRATS2015_Training/*/*/\")"
   ]
  },
  {
   "cell_type": "code",
   "execution_count": 10,
   "metadata": {
    "collapsed": false
   },
   "outputs": [],
   "source": [
    "n_channels = 3\n",
    "patch_size = 33\n",
    "patch_shape = (n_channels, patch_size, patch_size, patch_size)\n",
    "data_patch_shape = (n_channels + 1, patch_size, patch_size, patch_size)"
   ]
  },
  {
   "cell_type": "code",
   "execution_count": 11,
   "metadata": {
    "collapsed": false
   },
   "outputs": [],
   "source": [
    "dim_ordering = 'th'\n",
    "model = Sequential()\n",
    "model.add(Conv3D(input_shape=patch_shape, \n",
    "                 dim_ordering='th',\n",
    "                 nb_filter=68,\n",
    "                 kernel_dim1=7,\n",
    "                 kernel_dim2=7,\n",
    "                 kernel_dim3=7,\n",
    "                 activation='relu'))\n",
    "model.add(MaxPooling3D(pool_size=(2,2,2), strides=(1,1,1)))\n",
    "\n",
    "model.add(Conv3D(input_shape=patch_shape, \n",
    "                 dim_ordering='th',\n",
    "                 nb_filter=68,\n",
    "                 kernel_dim1=3,\n",
    "                 kernel_dim2=3,\n",
    "                 kernel_dim3=3,\n",
    "                 activation='relu'))\n",
    "\n",
    "model.add(Flatten())\n",
    "model.add(Dense(5, init='normal'))\n",
    "model.add(Activation('softmax'))\n",
    "sgd = SGD(lr=0.001, decay=0.01, momentum=0.9)\n",
    "model.compile(loss='sparse_categorical_crossentropy', optimizer='sgd')"
   ]
  },
  {
   "cell_type": "code",
   "execution_count": null,
   "metadata": {
    "collapsed": false
   },
   "outputs": [],
   "source": [
    "for subject_dir in subject_dirs:\n",
    "    train_model(read_subject_folder(subject_dir), model)\n",
    "    date = datetime.datetime.now().date()\n",
    "    time = datetime.datetime.now().time()\n",
    "    model_file = \"model_{0}{1}{2}_{3}:{4}:{5}.h5\".format(date.year, date.month, date.day,\n",
    "                                                         time.hour, time.minute, time.second)\n",
    "    model.save(moel_file)"
   ]
  },
  {
   "cell_type": "code",
   "execution_count": 17,
   "metadata": {
    "collapsed": true
   },
   "outputs": [],
   "source": [
    "import numpy as np\n",
    "a = range(10)"
   ]
  },
  {
   "cell_type": "code",
   "execution_count": 18,
   "metadata": {
    "collapsed": false
   },
   "outputs": [
    {
     "data": {
      "text/plain": [
       "7"
      ]
     },
     "execution_count": 18,
     "metadata": {},
     "output_type": "execute_result"
    }
   ],
   "source": [
    "np.random.choice(a, replace=False)"
   ]
  },
  {
   "cell_type": "code",
   "execution_count": 19,
   "metadata": {
    "collapsed": false
   },
   "outputs": [
    {
     "data": {
      "text/plain": [
       "4"
      ]
     },
     "execution_count": 19,
     "metadata": {},
     "output_type": "execute_result"
    }
   ],
   "source": [
    "pop_random(a)"
   ]
  },
  {
   "cell_type": "code",
   "execution_count": 20,
   "metadata": {
    "collapsed": false
   },
   "outputs": [
    {
     "data": {
      "text/plain": [
       "[0, 1, 2, 3, 5, 6, 7, 8, 9]"
      ]
     },
     "execution_count": 20,
     "metadata": {},
     "output_type": "execute_result"
    }
   ],
   "source": [
    "a"
   ]
  }
 ],
 "metadata": {
  "kernelspec": {
   "display_name": "Python [Root]",
   "language": "python",
   "name": "Python [Root]"
  },
  "language_info": {
   "codemirror_mode": {
    "name": "ipython",
    "version": 2
   },
   "file_extension": ".py",
   "mimetype": "text/x-python",
   "name": "python",
   "nbconvert_exporter": "python",
   "pygments_lexer": "ipython2",
   "version": "2.7.12"
  }
 },
 "nbformat": 4,
 "nbformat_minor": 0
}
